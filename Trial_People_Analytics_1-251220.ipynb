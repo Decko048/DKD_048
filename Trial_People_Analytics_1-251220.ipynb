{
  "nbformat": 4,
  "nbformat_minor": 0,
  "metadata": {
    "colab": {
      "name": "Trial_BRIDH_21.ipynb",
      "private_outputs": true,
      "provenance": [],
      "collapsed_sections": [],
      "authorship_tag": "ABX9TyNct+ou7Zx4RXMUZIItuoG9",
      "include_colab_link": true
    },
    "kernelspec": {
      "name": "python3",
      "display_name": "Python 3"
    }
  },
  "cells": [
    {
      "cell_type": "markdown",
      "metadata": {
        "id": "view-in-github",
        "colab_type": "text"
      },
      "source": [
        "<a href=\"https://colab.research.google.com/github/Decko048/DKD_048/blob/main/Trial_People_Analytics_1-251220.ipynb\" target=\"_parent\"><img src=\"https://colab.research.google.com/assets/colab-badge.svg\" alt=\"Open In Colab\"/></a>"
      ]
    },
    {
      "cell_type": "code",
      "metadata": {
        "id": "Z91CJ96zCruM"
      },
      "source": [
        "# Load Modul & Libraries\r\n",
        "import numpy as np\r\n",
        "import pandas as pd\r\n",
        "import matplotlib.pyplot as plt\r\n",
        "import seaborn as sns\r\n",
        "import random\r\n",
        "import os"
      ],
      "execution_count": null,
      "outputs": []
    },
    {
      "cell_type": "code",
      "metadata": {
        "id": "BfMRij8MDEMf"
      },
      "source": [
        "# Load the trining data\r\n",
        "tr_df=pd.read_csv('https://decko048.github.io/dataset/train.csv')\r\n",
        "ts_df=pd.read_csv('https://decko048.github.io/dataset/test.csv')\r\n",
        "\r\n",
        "print(tr_df.shape)\r\n",
        "print(ts_df.shape)\r\n",
        "pd.set_option('display.max_columns',30)\r\n",
        "tr_df.head(8)"
      ],
      "execution_count": null,
      "outputs": []
    },
    {
      "cell_type": "code",
      "metadata": {
        "id": "kn6c674wkkCQ"
      },
      "source": [
        "tr_df.info()"
      ],
      "execution_count": null,
      "outputs": []
    },
    {
      "cell_type": "code",
      "metadata": {
        "id": "gugEiX9SaNp-"
      },
      "source": [
        "tr_df.describe().job_duration_in_current_job_level"
      ],
      "execution_count": null,
      "outputs": []
    },
    {
      "cell_type": "code",
      "metadata": {
        "id": "OXpThXxpclb-"
      },
      "source": [
        "plt.hist(tr_df.job_duration_in_current_job_level, color='green')\r\n",
        "plt.xlabel('Lama Kerja di Jabatan Terakhir')\r\n",
        "plt.ylabel('Tahun')"
      ],
      "execution_count": null,
      "outputs": []
    },
    {
      "cell_type": "code",
      "metadata": {
        "id": "nxxxCW4IdPeu"
      },
      "source": [
        "tr_df.corr().job_duration_in_current_job_level.hist()"
      ],
      "execution_count": null,
      "outputs": []
    },
    {
      "cell_type": "code",
      "metadata": {
        "id": "a23NZ7VldeDd"
      },
      "source": [
        "tr_df.corr().loc[(tr_df.corr().job_duration_in_current_job_level<-0.3)\r\n",
        " | (tr_df.corr().job_duration_in_current_job_level>0.3)]['job_duration_in_current_job_level']"
      ],
      "execution_count": null,
      "outputs": []
    },
    {
      "cell_type": "code",
      "metadata": {
        "id": "VlTufB7YeoMZ"
      },
      "source": [
        "sns.lmplot(x='job_duration_in_current_job_level', y='Best Performance', data=tr_df)"
      ],
      "execution_count": null,
      "outputs": []
    },
    {
      "cell_type": "code",
      "metadata": {
        "id": "1qnK9DjVA4J4"
      },
      "source": [
        "tr_df.describe().age"
      ],
      "execution_count": null,
      "outputs": []
    },
    {
      "cell_type": "code",
      "metadata": {
        "id": "hZ19KZbGA9Jb"
      },
      "source": [
        "plt.hist(tr_df.age, color='green')\r\n",
        "plt.xlabel('Usia')\r\n",
        "plt.ylabel('Tahun')"
      ],
      "execution_count": null,
      "outputs": []
    },
    {
      "cell_type": "code",
      "metadata": {
        "id": "lPdV1xoOBJ8f"
      },
      "source": [
        "tr_df.corr().age.hist()"
      ],
      "execution_count": null,
      "outputs": []
    },
    {
      "cell_type": "code",
      "metadata": {
        "id": "DvaKc0kQBSmk"
      },
      "source": [
        "tr_df.corr().loc[(tr_df.corr().age<-0.3)\r\n",
        " | (tr_df.corr().age>0.3)]['age']"
      ],
      "execution_count": null,
      "outputs": []
    },
    {
      "cell_type": "code",
      "metadata": {
        "id": "ClvSvjBdBY0G"
      },
      "source": [
        "sns.lmplot(x='age', y='Best Performance', data=tr_df)"
      ],
      "execution_count": null,
      "outputs": []
    },
    {
      "cell_type": "code",
      "metadata": {
        "id": "9NqEV3X7DP5m"
      },
      "source": [
        "# Missing Values in each columns\r\n",
        "\r\n",
        "sns.set(style=\"darkgrid\")\r\n",
        "pd.DataFrame(tr_df.isna().sum().sort_values(ascending=True), columns=['Nilai Hilang']\r\n",
        "             ).plot(kind='barh', figsize=(10,6))\r\n",
        "plt.show()"
      ],
      "execution_count": null,
      "outputs": []
    },
    {
      "cell_type": "code",
      "metadata": {
        "id": "kX8ciXLcDuh9"
      },
      "source": [
        "# Unique values in each columns\r\n",
        "\r\n",
        "sns.set(style=\"darkgrid\")\r\n",
        "pd.DataFrame(tr_df.drop(columns=['Best Performance']).nunique().sort_values(ascending=True),\r\n",
        "             columns=['Nilai Unique']).plot(kind='barh',figsize=(10,6), logx=True)\r\n",
        "plt.show()\r\n"
      ],
      "execution_count": null,
      "outputs": []
    },
    {
      "cell_type": "markdown",
      "metadata": {
        "id": "ZRZZwln4FG7b"
      },
      "source": [
        "# **Exploratory Data Analysis of Training Data**\r\n",
        "\r\n",
        "Number of job_level in different categories accross both the type of target \"Best Performance\""
      ]
    },
    {
      "cell_type": "code",
      "metadata": {
        "id": "v8YdUiReEgLA"
      },
      "source": [
        "list_df =['job_duration_in_current_job_level','job_duration_in_current_person_level',\r\n",
        "          'job_duration_in_current_branch','sick_leaves','age','job_duration_from_training',\r\n",
        "          'assign_of_otherposition','annual leave','branch_rotation','job_rotation',\r\n",
        "          'person_level','number_of_dependences (female)','number_of_dependences (male)',\r\n",
        "          'job_level','Employee_type','Employee_status','gender','marital_status_maried(Y/N)']\r\n",
        "\r\n",
        "sns.set(style=\"darkgrid\")\r\n",
        "fig, ax = plt.subplots(9,2, figsize=(18,20))\r\n",
        "for i, ax in zip(range(18), ax.flat):\r\n",
        "    col = list_df[i]\r\n",
        "    sns.countplot(x=col, hue='Best Performance', data=tr_df, ax=ax)\r\n",
        "plt.show()"
      ],
      "execution_count": null,
      "outputs": []
    },
    {
      "cell_type": "code",
      "metadata": {
        "id": "jjjrDFA7IU9Q"
      },
      "source": [
        "# Correlation among various numerical Features\r\n",
        "\r\n",
        "plt.figure(figsize=(8,8))\r\n",
        "sns.heatmap(tr_df.drop(columns=['Best Performance']).corr(), annot=True,\r\n",
        "            square=True)\r\n",
        "plt.show()"
      ],
      "execution_count": null,
      "outputs": []
    },
    {
      "cell_type": "code",
      "metadata": {
        "id": "ipLzKMW6JJCP"
      },
      "source": [
        "# Number of Employees with different data=tr_df\r\n",
        "\r\n",
        "sns.set(style=\"darkgrid\")\r\n",
        "plt.figure(figsize=(10,6))\r\n",
        "sns.countplot(x='job_duration_in_current_job_level', hue='Best Performance', data=tr_df)\r\n",
        "plt.show()"
      ],
      "execution_count": null,
      "outputs": []
    },
    {
      "cell_type": "code",
      "metadata": {
        "id": "78SVzqd3fu-P"
      },
      "source": [
        "sns.lineplot(y='Best Performance', x='job_duration_in_current_job_level', data=tr_df)"
      ],
      "execution_count": null,
      "outputs": []
    },
    {
      "cell_type": "code",
      "metadata": {
        "id": "NsWEfmCKEATY"
      },
      "source": [
        "sns.lineplot(y='Best Performance', x='age', data=tr_df)"
      ],
      "execution_count": null,
      "outputs": []
    },
    {
      "cell_type": "code",
      "metadata": {
        "id": "N6kmq80sMSKm"
      },
      "source": [
        "# Number of Employee with different \"JOB DURATION IN CURRENT PERSON LEVEL\"\r\n",
        "\r\n",
        "sns.set(style=\"darkgrid\")\r\n",
        "plt.figure(figsize=(10,6))\r\n",
        "sns.countplot(x='job_duration_in_current_person_level', hue='Best Performance', data=tr_df)\r\n",
        "plt.show()"
      ],
      "execution_count": null,
      "outputs": []
    },
    {
      "cell_type": "code",
      "metadata": {
        "id": "SVHU8HSGNrj1"
      },
      "source": [
        "# Number of Employee with different \"JOB DURATION IN CURRENT BRANCH\"\r\n",
        "\r\n",
        "sns.set(style=\"darkgrid\")\r\n",
        "plt.figure(figsize=(10,6))\r\n",
        "sns.countplot(x='job_duration_in_current_branch', hue='Best Performance', data=tr_df)\r\n",
        "plt.show()"
      ],
      "execution_count": null,
      "outputs": []
    },
    {
      "cell_type": "code",
      "metadata": {
        "id": "0IbZJN8KN69O"
      },
      "source": [
        "# Number of Employee with different \"AGE\"\r\n",
        "\r\n",
        "sns.set(style=\"darkgrid\")\r\n",
        "plt.figure(figsize=(10,6))\r\n",
        "age_df=sns.countplot(x='age', hue='Best Performance', data=tr_df)\r\n",
        "plt.show()"
      ],
      "execution_count": null,
      "outputs": []
    },
    {
      "cell_type": "code",
      "metadata": {
        "id": "WVidsic8Og9N"
      },
      "source": [
        ""
      ],
      "execution_count": null,
      "outputs": []
    },
    {
      "cell_type": "code",
      "metadata": {
        "id": "PHmr5XcsZdwT"
      },
      "source": [
        "# Number of Employee with different \"SICK LEAVES\"\r\n",
        "\r\n",
        "sns.set(style=\"darkgrid\")\r\n",
        "plt.figure(figsize=(10,6))\r\n",
        "sns.countplot(x='sick_leaves', hue='Best Performance', data=tr_df)\r\n",
        "plt.show()"
      ],
      "execution_count": null,
      "outputs": []
    },
    {
      "cell_type": "code",
      "metadata": {
        "id": "HCdpF_cQZpgS"
      },
      "source": [
        "# Number of Employee with different \"JOB DURATION FROM TRAINING\"\r\n",
        "\r\n",
        "sns.set(style=\"darkgrid\")\r\n",
        "plt.figure(figsize=(10,6))\r\n",
        "sns.countplot(x='job_duration_from_training', hue='Best Performance', data=tr_df)\r\n",
        "plt.show()"
      ],
      "execution_count": null,
      "outputs": []
    },
    {
      "cell_type": "markdown",
      "metadata": {
        "id": "wR9Mcai8mnMX"
      },
      "source": [
        "# **DEEP LEARNING Variables Transformamtion** _20-12-25_V1.0\r\n",
        "\r\n",
        "Untuk tahapan pengelompokan dengan menormalkan data numerik pada skala 0 dan 1 saja menggunakan fungsi Min-Max.\r\n",
        "Nilai atribut yg berkelanjutan dikelompokkan ke dalam beberapa kelompok untuk membatasi penyebaran data.\r\n",
        "Untuk mempercepat pembelajaran algoritma, dilakukan perubahan nilai kategori \"Best Performance\" menjadi nilai integer berurutan"
      ]
    },
    {
      "cell_type": "code",
      "metadata": {
        "id": "eob1KC1-hCUY"
      },
      "source": [
        "# Deep Learning for People Analysis\r\n",
        "\r\n",
        "import numpy\r\n",
        "numpy.random.seed(7)\r\n",
        "import tensorflow as tf\r\n",
        "from keras.models import Sequential\r\n",
        "from keras.layers import Dense, Dropout\r\n",
        "from sklearn.model_selection import train_test_split, GridSearchCV\r\n",
        "from keras.wrappers.scikit_learn import KerasClassifier\r\n",
        "from keras.constraints import maxnorm\r\n",
        "from keras.optimizers import SGD\r\n",
        "from keras.optimizers import Adam\r\n",
        "\r\n",
        "fn_df=tr_df\r\n"
      ],
      "execution_count": null,
      "outputs": []
    },
    {
      "cell_type": "code",
      "metadata": {
        "id": "3KHuGQAPhm-P"
      },
      "source": [
        "bpdf=fn_df['age'].unique()\r\n",
        "bpdf_mapping=dict(zip(bpdf, range(0, len(bpdf) + 1)))\r\n",
        "fn_df['age_int']=fn_df['age'].map(bpdf_mapping).astype(int)\r\n",
        "depart=fn_df['age'].unique()\r\n",
        "depart_mapping=dict(zip(depart, range(0,len(depart)+1)))\r\n",
        "fn_df['depart_int']=fn_df['age'].map(depart_mapping).astype(int)\r\n",
        "fn_df=fn_df.drop([\"age\",\"age\"], axis=1)\r\n",
        "\r\n",
        "train, test = train_test_split(fn_df, test_size=0.2)\r\n",
        "\r\n",
        "X_train=train.drop([\"Best Performance\"], axis=1)\r\n",
        "Y_train=train[\"Best Performance\"]\r\n",
        "X_train=test.drop([\"Best Performance\"], axis=1)\r\n",
        "Y_train=test[\"Best Performance\"]\r\n",
        "\r\n",
        "print(bpdf_mapping)\r\n",
        "print(depart_mapping)\r\n",
        "\r\n",
        "print(train.shape)"
      ],
      "execution_count": null,
      "outputs": []
    },
    {
      "cell_type": "code",
      "metadata": {
        "id": "6010foT-lV4t"
      },
      "source": [
        "\r\n",
        "def create_model(neurons=16, dropout_rate=0.2, weight_constraint=3,activation='relu',learn_rate=0.01, momentum=0.4):\r\n",
        "    \r\n",
        "    #create model\r\n",
        "    model_dl = Sequential()\r\n",
        "    model_dl.add(Dense(neurons, input_dim=9, kernel_initializer='uniform',\r\n",
        "                        activation=activation, kernel_constraint=maxnorm(weight_constraint)))\r\n",
        "    model_dl.add(Dense(neurons, kernel_initializer='uniform', \r\n",
        "                     activation=activation, kernel_constraint=maxnorm(weight_constraint)))\r\n",
        "    model_dl.add(Dense(neurons, kernel_initializer='uniform', \r\n",
        "                     activation=activation, kernel_constraint=maxnorm(weight_constraint)))\r\n",
        "    model_dl.add(Dense(neurons, kernel_initializer='uniform', \r\n",
        "                     activation=activation, kernel_constraint=maxnorm(weight_constraint)))\r\n",
        "    model_dl.add(Dense(1, kernel_initializer='uniform', activation='sigmoid'))\r\n",
        "    \r\n",
        "    # Compile model\r\n",
        "    optimizer = SGD(lr=learn_rate, momentum=momentum)\r\n",
        "    model_dl.compile(loss='binary_crossentropy', optimizer=optimizer, metrics=['accuracy'])\r\n",
        "    return model_dl\r\n",
        "\r\n",
        "best_model = create_model()\r\n",
        "\r\n",
        "history_best = best_model.fit(X_train, Y_train, epochs= 20, batch_size= 20, validation_split=0.1, verbose= 1)\r\n"
      ],
      "execution_count": null,
      "outputs": []
    },
    {
      "cell_type": "code",
      "metadata": {
        "id": "XcDtqGj92XV3"
      },
      "source": [
        "# list all data in history\r\n",
        "\r\n",
        "print(history_best.history.keys())\r\n",
        "# summarize history for accuracy\r\n",
        "\r\n",
        "plt.plot(history_best.history['acc'])\r\n",
        "plt.plot(history_best.history['val_acc'])\r\n",
        "plt.title('model accuracy')\r\n",
        "plt.ylabel('accuracy')\r\n",
        "plt.xlabel('epoch')\r\n",
        "plt.legend(['train', 'validation'], loc='upper left')\r\n",
        "plt.show()\r\n",
        "\r\n",
        "# summarize history for loss\r\n",
        "plt.plot(history_best.history['loss'])\r\n",
        "plt.plot(history_best.history['val_loss'])\r\n",
        "plt.title('model loss')\r\n",
        "plt.ylabel('loss')\r\n",
        "plt.xlabel('epoch')\r\n",
        "plt.legend(['train', 'validation'], loc='upper right')\r\n",
        "plt.show()"
      ],
      "execution_count": null,
      "outputs": []
    },
    {
      "cell_type": "code",
      "metadata": {
        "id": "tzbJstoeFFQf"
      },
      "source": [
        "def create_model_easy():\r\n",
        "    # create model\r\n",
        "    model = Sequential()\r\n",
        "    model.add(Dense(12, input_dim=9, activation='sigmoid'))\r\n",
        "    model.add(Dense(16, activation='sigmoid'))\r\n",
        "    model.add(Dropout(0,7))\r\n",
        "    model.add(Dense(16, activation='sigmoid'))\r\n",
        "    model.add(Dropout(0,7))\r\n",
        "    model.add(Dense(16, activation='sigmoid'))\r\n",
        "    model.add(Dropout(0,7))\r\n",
        "    model.add(Dense(16, activation='sigmoid'))\r\n",
        "    model.add(Dense(1, activation='sigmoid'))\r\n",
        "    \r\n",
        "    optimizer = Adam(decay=0.001)\r\n",
        "    # Compile model\r\n",
        "    model.compile(loss='binary_crossentropy', optimizer=optimizer, metrics=['accuracy'])\r\n",
        "    return model\r\n",
        "\r\n",
        "# Fit the model\r\n",
        "my_model = create_model_easy()\r\n",
        "history = my_model.fit(X_train, Y_train, epochs=50, batch_size=15, validation_split=0.2, verbose=1)\r\n",
        "\r\n",
        "print(\"Model finished\")"
      ],
      "execution_count": null,
      "outputs": []
    },
    {
      "cell_type": "code",
      "metadata": {
        "id": "9xwAHuVrFYJn"
      },
      "source": [
        "# list all data in history\r\n",
        "print(history.history.keys())\r\n",
        "# summarize history for accuracy\r\n",
        "plt.plot(history.history['acc'])\r\n",
        "plt.plot(history.history['val_acc'])\r\n",
        "plt.title('model accuracy')\r\n",
        "plt.ylabel('accuracy')\r\n",
        "plt.xlabel('epoch')\r\n",
        "plt.legend(['train', 'validation'], loc='upper left')\r\n",
        "plt.show()\r\n",
        "# summarize history for loss\r\n",
        "plt.plot(history.history['loss'])\r\n",
        "plt.plot(history.history['val_loss'])\r\n",
        "plt.title('model loss')\r\n",
        "plt.ylabel('loss')\r\n",
        "plt.xlabel('epoch')\r\n",
        "plt.legend(['train', 'validation'], loc='upper right')\r\n",
        "plt.show()"
      ],
      "execution_count": null,
      "outputs": []
    },
    {
      "cell_type": "code",
      "metadata": {
        "id": "c0Zw_e9FFcFL"
      },
      "source": [
        "scores = my_model.evaluate(X_test, Y_test)\r\n",
        "print(\"\\n%s: %.2f%%\" % (my_model.metrics_names[0], scores[0]*100))\r\n",
        "print(\"\\n%s: %.2f%%\" % (my_model.metrics_names[1], scores[1]*100))"
      ],
      "execution_count": null,
      "outputs": []
    }
  ]
}